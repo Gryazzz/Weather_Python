{
 "cells": [
  {
   "cell_type": "code",
   "execution_count": 2,
   "metadata": {},
   "outputs": [],
   "source": [
    "import openweathermapy.core as owm\n",
    "import requests\n",
    "from citipy import citipy\n",
    "from pprint import pprint\n",
    "import pandas as pd\n",
    "import random\n",
    "from config import api_key\n",
    "import matplotlib.pyplot as plt"
   ]
  },
  {
   "cell_type": "markdown",
   "metadata": {},
   "source": [
    "**Create a list of random cities**"
   ]
  },
  {
   "cell_type": "markdown",
   "metadata": {},
   "source": [
    "# this code kills the kernel, what I did wrong?\n",
    "cities = {}\n",
    "\n",
    "def onemoreloop():\n",
    "    return citylistcreator()\n",
    "\n",
    "def citylistcreator():\n",
    "    for x in range(500):\n",
    "        coord = ((round(random.uniform(-90.00, 90.00),2)),(round(random.uniform(-180.00, 180.00),2)))\n",
    "        citydata = citipy.nearest_city(*coord)\n",
    "        city = citydata.city_name\n",
    "        if city not in cities:\n",
    "            cities[city] = coord\n",
    "        else:\n",
    "            try:\n",
    "                return onemoreloop()\n",
    "            except(RecursionError):\n",
    "                return onemoreloop()\n",
    "\n",
    "citylistcreator()\n",
    "print(len(cities))"
   ]
  },
  {
   "cell_type": "code",
   "execution_count": 18,
   "metadata": {},
   "outputs": [
    {
     "name": "stdout",
     "output_type": "stream",
     "text": [
      "39\n"
     ]
    }
   ],
   "source": [
    "# This works fine, but the output number is unpredictable\n",
    "\n",
    "cities = {}\n",
    "\n",
    "for x in range(50):\n",
    "    coord = ((round(random.uniform(-90.00, 90.00),2)),(round(random.uniform(-180.00, 180.00),2)))\n",
    "    citydata = citipy.nearest_city(*coord)\n",
    "    city = citydata.city_name\n",
    "    #if city not in cities: Not necessary, because of using dictionary\n",
    "        #cities[city] = coord\n",
    "    #else:\n",
    "        #pass\n",
    "    cities[city] = coord\n",
    "\n",
    "print(len(cities))"
   ]
  },
  {
   "cell_type": "markdown",
   "metadata": {},
   "source": [
    "**Retrieve cities data from openweathermap using Requests. Create a DataFrame**"
   ]
  },
  {
   "cell_type": "code",
   "execution_count": 22,
   "metadata": {},
   "outputs": [
    {
     "name": "stdout",
     "output_type": "stream",
     "text": [
      "There is no city taolanaro in openweathermap database\n",
      "There is no city illoqqortoormiut in openweathermap database\n",
      "There is no city amderma in openweathermap database\n",
      "There is no city fevralsk in openweathermap database\n",
      "There is no city belushya guba in openweathermap database\n",
      "5 cities were skipped\n",
      "34 cities data was captured\n"
     ]
    }
   ],
   "source": [
    "url = 'http://api.openweathermap.org/data/2.5/weather?'\n",
    "units = 'imperial'\n",
    "\n",
    "all_requests_data = {}\n",
    "counter = 1 # City number counter\n",
    "abcent_cities = 0 # Counter for the cities that are not in the openweather database\n",
    "\n",
    "for city in cities:\n",
    "    \n",
    "    pure_city_name = city\n",
    "    city = requests.utils.quote(city, safe='') # Make a city name readable (percent-encoded)\n",
    "    ind_url = f'{url}appid={api_key}&units={units}&q={city}'\n",
    "    # The line below is blocked, not to show the api_key\n",
    "    #print(f'Now processing: city number {counter}, name {pure_city_name}\\n{ind_url}')\n",
    "    data_json = requests.get(ind_url).json()\n",
    "    \n",
    "    try:\n",
    "        all_requests_data[data_json['name']] = [data_json['sys']['country'], data_json['coord']['lat'], \n",
    "                                              data_json['main']['temp'], data_json['main']['humidity'],\n",
    "                                              data_json['clouds']['all'], data_json['wind']['speed'], data_json['dt']]\n",
    "    except(KeyError):\n",
    "        print(f'There is no city {pure_city_name} in openweathermap database')\n",
    "        abcent_cities +=1\n",
    "        pass\n",
    "    counter += 1\n",
    "    \n",
    "print(f'{abcent_cities} cities were skipped')\n",
    "print(f'{len(all_requests_data)} cities data was captured')"
   ]
  },
  {
   "cell_type": "code",
   "execution_count": 47,
   "metadata": {},
   "outputs": [
    {
     "name": "stdout",
     "output_type": "stream",
     "text": [
      "Country            34\n",
      "Latitude           34\n",
      "Temperature(F)     34\n",
      "Humidity(%)        34\n",
      "Cloudiness(%)      34\n",
      "Wind Speed(MpH)    34\n",
      "Date               34\n",
      "dtype: int64\n"
     ]
    },
    {
     "data": {
      "text/html": [
       "<div>\n",
       "<style scoped>\n",
       "    .dataframe tbody tr th:only-of-type {\n",
       "        vertical-align: middle;\n",
       "    }\n",
       "\n",
       "    .dataframe tbody tr th {\n",
       "        vertical-align: top;\n",
       "    }\n",
       "\n",
       "    .dataframe thead th {\n",
       "        text-align: right;\n",
       "    }\n",
       "</style>\n",
       "<table border=\"1\" class=\"dataframe\">\n",
       "  <thead>\n",
       "    <tr style=\"text-align: right;\">\n",
       "      <th></th>\n",
       "      <th>Country</th>\n",
       "      <th>Latitude</th>\n",
       "      <th>Temperature(F)</th>\n",
       "      <th>Humidity(%)</th>\n",
       "      <th>Cloudiness(%)</th>\n",
       "      <th>Wind Speed(MpH)</th>\n",
       "      <th>Date</th>\n",
       "    </tr>\n",
       "  </thead>\n",
       "  <tbody>\n",
       "    <tr>\n",
       "      <th>Acari</th>\n",
       "      <td>BR</td>\n",
       "      <td>-6.44</td>\n",
       "      <td>82.91</td>\n",
       "      <td>69</td>\n",
       "      <td>48</td>\n",
       "      <td>10.42</td>\n",
       "      <td>1522170237</td>\n",
       "    </tr>\n",
       "    <tr>\n",
       "      <th>Albany</th>\n",
       "      <td>US</td>\n",
       "      <td>42.65</td>\n",
       "      <td>42.8</td>\n",
       "      <td>28</td>\n",
       "      <td>90</td>\n",
       "      <td>10.29</td>\n",
       "      <td>1522166220</td>\n",
       "    </tr>\n",
       "    <tr>\n",
       "      <th>Bardsir</th>\n",
       "      <td>IR</td>\n",
       "      <td>29.93</td>\n",
       "      <td>68</td>\n",
       "      <td>8</td>\n",
       "      <td>0</td>\n",
       "      <td>6.93</td>\n",
       "      <td>1522166400</td>\n",
       "    </tr>\n",
       "    <tr>\n",
       "      <th>Bluff</th>\n",
       "      <td>AU</td>\n",
       "      <td>-23.58</td>\n",
       "      <td>73.19</td>\n",
       "      <td>72</td>\n",
       "      <td>0</td>\n",
       "      <td>10.54</td>\n",
       "      <td>1522170237</td>\n",
       "    </tr>\n",
       "    <tr>\n",
       "      <th>Bredasdorp</th>\n",
       "      <td>ZA</td>\n",
       "      <td>-34.53</td>\n",
       "      <td>75.2</td>\n",
       "      <td>57</td>\n",
       "      <td>24</td>\n",
       "      <td>10.29</td>\n",
       "      <td>1522166400</td>\n",
       "    </tr>\n",
       "  </tbody>\n",
       "</table>\n",
       "</div>"
      ],
      "text/plain": [
       "           Country Latitude Temperature(F) Humidity(%) Cloudiness(%)  \\\n",
       "Acari           BR    -6.44          82.91          69            48   \n",
       "Albany          US    42.65           42.8          28            90   \n",
       "Bardsir         IR    29.93             68           8             0   \n",
       "Bluff           AU   -23.58          73.19          72             0   \n",
       "Bredasdorp      ZA   -34.53           75.2          57            24   \n",
       "\n",
       "           Wind Speed(MpH)        Date  \n",
       "Acari                10.42  1522170237  \n",
       "Albany               10.29  1522166220  \n",
       "Bardsir               6.93  1522166400  \n",
       "Bluff                10.54  1522170237  \n",
       "Bredasdorp           10.29  1522166400  "
      ]
     },
     "execution_count": 47,
     "metadata": {},
     "output_type": "execute_result"
    }
   ],
   "source": [
    "dframe_json = pd.DataFrame(all_requests_data)\n",
    "final_req_df = dframe_json.transpose()\n",
    "final_req_df.columns = ['Country', 'Latitude', 'Temperature(F)', 'Humidity(%)', 'Cloudiness(%)', 'Wind Speed(MpH)',\n",
    "                        'Date']\n",
    "print(final_req_df.count())\n",
    "final_req_df.head()"
   ]
  },
  {
   "cell_type": "markdown",
   "metadata": {},
   "source": [
    "**Retrieve cities data from openweathermap using openweathermapy. Create a DataFrame**"
   ]
  },
  {
   "cell_type": "markdown",
   "metadata": {},
   "source": [
    "**Here and below I use metric system because Farenheits sound like Sanskrit for me**"
   ]
  },
  {
   "cell_type": "code",
   "execution_count": 25,
   "metadata": {},
   "outputs": [],
   "source": [
    "settings = {\"units\": \"metric\", \"appid\": api_key} "
   ]
  },
  {
   "cell_type": "code",
   "execution_count": 39,
   "metadata": {},
   "outputs": [
    {
     "name": "stdout",
     "output_type": "stream",
     "text": [
      "There is no city taolanaro in openweathermap database\n",
      "There is no city illoqqortoormiut in openweathermap database\n",
      "There is no city amderma in openweathermap database\n",
      "There is no city fevralsk in openweathermap database\n",
      "There is no city belushya guba in openweathermap database\n",
      "5 cities were skipped\n",
      "34 cities data was captured\n"
     ]
    }
   ],
   "source": [
    "import urllib\n",
    "\n",
    "all_owm_data = []\n",
    "abcent_cities = 0\n",
    "\n",
    "for city in cities:\n",
    "    try:\n",
    "        all_owm_data.append(owm.get_current(city, **settings))\n",
    "    except urllib.error.HTTPError:\n",
    "        print(f'There is no city {city} in openweathermap database')\n",
    "        abcent_cities += 1\n",
    "        pass\n",
    "        \n",
    "print(f'{abcent_cities} cities were skipped')\n",
    "print(f'{len(all_owm_data)} cities data was captured')"
   ]
  },
  {
   "cell_type": "code",
   "execution_count": 48,
   "metadata": {},
   "outputs": [
    {
     "data": {
      "text/html": [
       "<div>\n",
       "<style scoped>\n",
       "    .dataframe tbody tr th:only-of-type {\n",
       "        vertical-align: middle;\n",
       "    }\n",
       "\n",
       "    .dataframe tbody tr th {\n",
       "        vertical-align: top;\n",
       "    }\n",
       "\n",
       "    .dataframe thead th {\n",
       "        text-align: right;\n",
       "    }\n",
       "</style>\n",
       "<table border=\"1\" class=\"dataframe\">\n",
       "  <thead>\n",
       "    <tr style=\"text-align: right;\">\n",
       "      <th></th>\n",
       "      <th>Name</th>\n",
       "      <th>Country</th>\n",
       "      <th>Latitude</th>\n",
       "      <th>Temperature(C)</th>\n",
       "      <th>Humidity(%)</th>\n",
       "      <th>Cloudiness(%)</th>\n",
       "      <th>Wind Speed(MpH)</th>\n",
       "      <th>Date</th>\n",
       "    </tr>\n",
       "  </thead>\n",
       "  <tbody>\n",
       "    <tr>\n",
       "      <th>0</th>\n",
       "      <td>Port Alfred</td>\n",
       "      <td>ZA</td>\n",
       "      <td>-33.59</td>\n",
       "      <td>24.43</td>\n",
       "      <td>77</td>\n",
       "      <td>12</td>\n",
       "      <td>6.46</td>\n",
       "      <td>1522172283</td>\n",
       "    </tr>\n",
       "    <tr>\n",
       "      <th>1</th>\n",
       "      <td>Khatanga</td>\n",
       "      <td>RU</td>\n",
       "      <td>71.98</td>\n",
       "      <td>-37.50</td>\n",
       "      <td>0</td>\n",
       "      <td>0</td>\n",
       "      <td>2.06</td>\n",
       "      <td>1522172284</td>\n",
       "    </tr>\n",
       "    <tr>\n",
       "      <th>2</th>\n",
       "      <td>Goderich</td>\n",
       "      <td>CA</td>\n",
       "      <td>43.74</td>\n",
       "      <td>5.08</td>\n",
       "      <td>96</td>\n",
       "      <td>92</td>\n",
       "      <td>11.71</td>\n",
       "      <td>1522172278</td>\n",
       "    </tr>\n",
       "    <tr>\n",
       "      <th>3</th>\n",
       "      <td>Sitka</td>\n",
       "      <td>US</td>\n",
       "      <td>37.17</td>\n",
       "      <td>8.61</td>\n",
       "      <td>74</td>\n",
       "      <td>92</td>\n",
       "      <td>7.06</td>\n",
       "      <td>1522172278</td>\n",
       "    </tr>\n",
       "    <tr>\n",
       "      <th>4</th>\n",
       "      <td>Grand Forks</td>\n",
       "      <td>US</td>\n",
       "      <td>47.91</td>\n",
       "      <td>2.60</td>\n",
       "      <td>98</td>\n",
       "      <td>1</td>\n",
       "      <td>4.60</td>\n",
       "      <td>1522170900</td>\n",
       "    </tr>\n",
       "  </tbody>\n",
       "</table>\n",
       "</div>"
      ],
      "text/plain": [
       "          Name Country  Latitude  Temperature(C)  Humidity(%)  Cloudiness(%)  \\\n",
       "0  Port Alfred      ZA    -33.59           24.43           77             12   \n",
       "1     Khatanga      RU     71.98          -37.50            0              0   \n",
       "2     Goderich      CA     43.74            5.08           96             92   \n",
       "3        Sitka      US     37.17            8.61           74             92   \n",
       "4  Grand Forks      US     47.91            2.60           98              1   \n",
       "\n",
       "   Wind Speed(MpH)        Date  \n",
       "0             6.46  1522172283  \n",
       "1             2.06  1522172284  \n",
       "2            11.71  1522172278  \n",
       "3             7.06  1522172278  \n",
       "4             4.60  1522170900  "
      ]
     },
     "execution_count": 48,
     "metadata": {},
     "output_type": "execute_result"
    }
   ],
   "source": [
    "search = ['name', 'sys.country', 'coord.lat', 'main.temp','main.humidity', 'clouds.all', 'wind.speed', 'dt']\n",
    "extracted_data = [city(*search) for city in all_owm_data]\n",
    "\n",
    "final_owm_df = pd.DataFrame(extracted_data)\n",
    "final_owm_df.columns = ['Name','Country', 'Latitude', 'Temperature(C)', 'Humidity(%)', 'Cloudiness(%)',\n",
    "                        'Wind Speed(MpH)', 'Date']\n",
    "final_owm_df.head()"
   ]
  },
  {
   "cell_type": "code",
   "execution_count": 49,
   "metadata": {},
   "outputs": [
    {
     "data": {
      "image/png": "[encoded data removed]",
      "text/plain": [
       "<matplotlib.figure.Figure at 0x10c45ceb8>"
      ]
     },
     "metadata": {},
     "output_type": "display_data"
    }
   ],
   "source": [
    "import datetime\n",
    "current_date = datetime.datetime.now().date().strftime(\"%m/%d/%Y\")\n",
    "plt.figure(figsize=(10,6))\n",
    "plt.scatter(final_owm_df['Temperature(C)'], final_owm_df['Latitude'], c=final_owm_df['Temperature(C)'], cmap='coolwarm')\n",
    "plt.ylabel('Latitude')\n",
    "plt.xlabel('Temperature (C)')\n",
    "plt.title(f'Temperature (C) vs. City Latitude ({current_date})')\n",
    "plt.tight_layout()\n",
    "plt.grid()"
   ]
  },
  {
   "cell_type": "code",
   "execution_count": 56,
   "metadata": {},
   "outputs": [
    {
     "ename": "AttributeError",
     "evalue": "'tuple' object has no attribute 'xlabel'",
     "output_type": "error",
     "traceback": [
      "\u001b[0;31m----------------------------------------------------------------------\u001b[0m",
      "\u001b[0;31mAttributeError\u001b[0m                       Traceback (most recent call last)",
      "\u001b[0;32m<ipython-input-56-b99ba7b4c251>\u001b[0m in \u001b[0;36m<module>\u001b[0;34m()\u001b[0m\n\u001b[1;32m      4\u001b[0m \u001b[0;34m\u001b[0m\u001b[0m\n\u001b[1;32m      5\u001b[0m \u001b[0max1\u001b[0m\u001b[0;34m.\u001b[0m\u001b[0mscatter\u001b[0m\u001b[0;34m(\u001b[0m\u001b[0mfinal_owm_df\u001b[0m\u001b[0;34m[\u001b[0m\u001b[0;34m'Latitude'\u001b[0m\u001b[0;34m]\u001b[0m\u001b[0;34m,\u001b[0m \u001b[0mfinal_owm_df\u001b[0m\u001b[0;34m[\u001b[0m\u001b[0;34m'Humidity(%)'\u001b[0m\u001b[0;34m]\u001b[0m\u001b[0;34m)\u001b[0m\u001b[0;34m\u001b[0m\u001b[0m\n\u001b[0;32m----> 6\u001b[0;31m \u001b[0;34m(\u001b[0m\u001b[0max1\u001b[0m\u001b[0;34m,\u001b[0m\u001b[0max2\u001b[0m\u001b[0;34m,\u001b[0m\u001b[0max3\u001b[0m\u001b[0;34m)\u001b[0m\u001b[0;34m.\u001b[0m\u001b[0mxlabel\u001b[0m\u001b[0;34m(\u001b[0m\u001b[0;34m'Latitude'\u001b[0m\u001b[0;34m)\u001b[0m\u001b[0;34m\u001b[0m\u001b[0m\n\u001b[0m\u001b[1;32m      7\u001b[0m \u001b[0;34m\u001b[0m\u001b[0m\n\u001b[1;32m      8\u001b[0m \u001b[0max2\u001b[0m\u001b[0;34m.\u001b[0m\u001b[0mscatter\u001b[0m\u001b[0;34m(\u001b[0m\u001b[0mfinal_owm_df\u001b[0m\u001b[0;34m[\u001b[0m\u001b[0;34m'Latitude'\u001b[0m\u001b[0;34m]\u001b[0m\u001b[0;34m,\u001b[0m \u001b[0mfinal_owm_df\u001b[0m\u001b[0;34m[\u001b[0m\u001b[0;34m'Cloudiness(%)'\u001b[0m\u001b[0;34m]\u001b[0m\u001b[0;34m)\u001b[0m\u001b[0;34m\u001b[0m\u001b[0m\n",
      "\u001b[0;31mAttributeError\u001b[0m: 'tuple' object has no attribute 'xlabel'"
     ]
    },
    {
     "data": {
      "image/png": "[encoded data removed]",
      "text/plain": [
       "<matplotlib.figure.Figure at 0x115560f60>"
      ]
     },
     "metadata": {},
     "output_type": "display_data"
    }
   ],
   "source": [
    "fig, (ax1, ax2, ax3) = plt.subplots(3, sharex=False)\n",
    "#ax1.set_xlim(min(df_weather['Latitude'])-16, max(df_weather['Latitude'])+20)\n",
    "fig.set_size_inches(10,20)\n",
    "\n",
    "ax1.scatter(final_owm_df['Latitude'], final_owm_df['Humidity(%)'])\n",
    "(ax1,ax2,ax3).xlabel('Latitude')\n",
    "\n",
    "ax2.scatter(final_owm_df['Latitude'], final_owm_df['Cloudiness(%)'])\n",
    "\n",
    "ax3.scatter(final_owm_df['Latitude'], final_owm_df['Wind Speed(MpH)'])"
   ]
  },
  {
   "cell_type": "code",
   "execution_count": 200,
   "metadata": {},
   "outputs": [
    {
     "data": {
      "text/plain": [
       "(-65, 87.5183466988508)"
      ]
     },
     "execution_count": 200,
     "metadata": {},
     "output_type": "execute_result"
    },
    {
     "data": {
      "image/png": "[encoded data removed]",
      "text/plain": [
       "<matplotlib.figure.Figure at 0x120c78c50>"
      ]
     },
     "metadata": {},
     "output_type": "display_data"
    }
   ],
   "source": [
    "df.plot(kind='scatter', x='Latitude', y='Wind Speed')\n",
    "plt.ylim(0, None)\n",
    "plt.xlim(-65, None)"
   ]
  },
  {
   "cell_type": "code",
   "execution_count": null,
   "metadata": {},
   "outputs": [],
   "source": []
  }
 ],
 "metadata": {
  "kernelspec": {
   "display_name": "Python 3",
   "language": "python",
   "name": "python3"
  },
  "language_info": {
   "codemirror_mode": {
    "name": "ipython",
    "version": 3
   },
   "file_extension": ".py",
   "mimetype": "text/x-python",
   "name": "python",
   "nbconvert_exporter": "python",
   "pygments_lexer": "ipython3",
   "version": "3.6.4"
  }
 },
 "nbformat": 4,
 "nbformat_minor": 2
}
