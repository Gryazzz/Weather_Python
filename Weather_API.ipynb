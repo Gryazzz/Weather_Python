{
 "cells": [
  {
   "cell_type": "code",
   "execution_count": 2,
   "metadata": {},
   "outputs": [],
   "source": [
    "import openweathermapy.core as owm\n",
    "from citipy import citipy\n",
    "from pprint import pprint\n",
    "import pandas as pd\n",
    "import random\n",
    "from config import api_key"
   ]
  },
  {
   "cell_type": "markdown",
   "metadata": {},
   "source": [
    "**Create a list of random cities**"
   ]
  },
  {
   "cell_type": "markdown",
   "metadata": {},
   "source": [
    "# this code kills the kernel, why?\n",
    "cities = {}\n",
    "\n",
    "def onemoreloop():\n",
    "    return citylistcreator()\n",
    "\n",
    "def citylistcreator():\n",
    "    for x in range(500):\n",
    "        coord = ((round(random.uniform(-90.00, 90.00),2)),(round(random.uniform(-180.00, 180.00),2)))\n",
    "        citydata = citipy.nearest_city(*coord)\n",
    "        city = citydata.city_name\n",
    "        if city not in cities:\n",
    "            cities[city] = coord\n",
    "        else:\n",
    "            try:\n",
    "                return onemoreloop()\n",
    "            except(RecursionError):\n",
    "                return onemoreloop()\n",
    "\n",
    "citylistcreator()\n",
    "print(len(cities))"
   ]
  },
  {
   "cell_type": "code",
   "execution_count": 88,
   "metadata": {},
   "outputs": [
    {
     "name": "stdout",
     "output_type": "stream",
     "text": [
      "543\n"
     ]
    }
   ],
   "source": [
    "# This works fine, but the output number is unpredictable\n",
    "\n",
    "cities = {}\n",
    "\n",
    "for x in range(1000):\n",
    "    coord = ((round(random.uniform(-65.00, 80.00),2)),(round(random.uniform(-180.00, 180.00),2)))\n",
    "    citydata = citipy.nearest_city(*coord)\n",
    "    city = citydata.city_name\n",
    "    if city not in cities:\n",
    "        cities[city] = coord\n",
    "    else:\n",
    "        pass\n",
    "\n",
    "print(len(cities))"
   ]
  },
  {
   "cell_type": "code",
   "execution_count": 89,
   "metadata": {},
   "outputs": [],
   "source": [
    "settings = {\"units\": \"metric\", \"appid\": api_key}"
   ]
  },
  {
   "cell_type": "code",
   "execution_count": 90,
   "metadata": {},
   "outputs": [],
   "source": [
    "#data = owm.find_cities_by_geo_coord((44.78, 124.58), 3, **settings)\n",
    "#data"
   ]
  },
  {
   "cell_type": "code",
   "execution_count": 92,
   "metadata": {},
   "outputs": [
    {
     "name": "stdout",
     "output_type": "stream",
     "text": [
      "543\n"
     ]
    }
   ],
   "source": [
    "alldata = [owm.get_current(cities[city], **settings) for city in cities]\n",
    "print(len(alldata))"
   ]
  },
  {
   "cell_type": "code",
   "execution_count": null,
   "metadata": {},
   "outputs": [],
   "source": []
  },
  {
   "cell_type": "code",
   "execution_count": null,
   "metadata": {},
   "outputs": [],
   "source": []
  }
 ],
 "metadata": {
  "kernelspec": {
   "display_name": "Python 3",
   "language": "python",
   "name": "python3"
  },
  "language_info": {
   "codemirror_mode": {
    "name": "ipython",
    "version": 3
   },
   "file_extension": ".py",
   "mimetype": "text/x-python",
   "name": "python",
   "nbconvert_exporter": "python",
   "pygments_lexer": "ipython3",
   "version": "3.6.4"
  }
 },
 "nbformat": 4,
 "nbformat_minor": 2
}
